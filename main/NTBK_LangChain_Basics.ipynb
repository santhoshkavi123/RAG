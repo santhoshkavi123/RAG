{
 "cells": [
  {
   "cell_type": "code",
   "execution_count": 8,
   "id": "5e98073b",
   "metadata": {},
   "outputs": [],
   "source": [
    "import os\n",
    "from dotenv import load_dotenv\n",
    "from IPython.display import display, Markdown\n",
    "\n",
    "from langchain.chat_models import init_chat_model\n",
    "from langchain_core.messages import HumanMessage, SystemMessage, AIMessage"
   ]
  },
  {
   "cell_type": "code",
   "execution_count": 6,
   "id": "78e980e5",
   "metadata": {},
   "outputs": [
    {
     "name": "stderr",
     "output_type": "stream",
     "text": [
      "E0000 00:00:1758743237.421053 3028688 alts_credentials.cc:93] ALTS creds ignored. Not running on GCP and untrusted ALTS is not enabled.\n"
     ]
    },
    {
     "data": {
      "text/plain": [
       "AIMessage(content=\"I'm functioning perfectly, thank you for asking! As an AI, I don't have personal feelings or experiences like humans do, but I'm ready and available to assist.\\n\\nHow are you doing today?\", additional_kwargs={}, response_metadata={'prompt_feedback': {'block_reason': 0, 'safety_ratings': []}, 'finish_reason': 'STOP', 'model_name': 'gemini-2.5-flash', 'safety_ratings': []}, id='run--c79df0f0-6942-48a0-84d7-f8e9ad529e61-0', usage_metadata={'input_tokens': 6, 'output_tokens': 382, 'total_tokens': 388, 'input_token_details': {'cache_read': 0}, 'output_token_details': {'reasoning': 337}})"
      ]
     },
     "execution_count": 6,
     "metadata": {},
     "output_type": "execute_result"
    }
   ],
   "source": [
    "# Initiate llm \n",
    "llm = init_chat_model(model = \"gemini-2.5-flash\", \n",
    "                model_provider=\"google_genai\")\n",
    "\n",
    "llm.invoke(\"How are you doing?\")"
   ]
  },
  {
   "cell_type": "markdown",
   "id": "2e9f8717",
   "metadata": {},
   "source": [
    "#### 1. MessageTypes"
   ]
  },
  {
   "cell_type": "code",
   "execution_count": 9,
   "id": "b9a90b59",
   "metadata": {},
   "outputs": [
    {
     "data": {
      "text/markdown": [
       "Dive into Agatha Christie's classic \"And Then There Were None\" for a masterclass in suspenseful whodunits."
      ],
      "text/plain": [
       "<IPython.core.display.Markdown object>"
      ]
     },
     "metadata": {},
     "output_type": "display_data"
    },
    {
     "name": "stdout",
     "output_type": "stream",
     "text": [
      "Metadata Info : {'prompt_feedback': {'block_reason': 0, 'safety_ratings': []}, 'finish_reason': 'STOP', 'model_name': 'gemini-2.5-flash', 'safety_ratings': []}\n"
     ]
    }
   ],
   "source": [
    "response = llm.invoke([\n",
    "    SystemMessage(content = \"You're a helpful AI bot that assists a user in choosing the perfect book to read in one short sentence\"),\n",
    "    HumanMessage(content = \"I enjoy mystery novels, what should I read?\")\n",
    "])\n",
    "\n",
    "display(Markdown(response.content))\n",
    "print(f\"Metadata Info : {response.response_metadata}\")"
   ]
  },
  {
   "cell_type": "code",
   "execution_count": null,
   "id": "ab47f1e5",
   "metadata": {},
   "outputs": [],
   "source": []
  }
 ],
 "metadata": {
  "kernelspec": {
   "display_name": "rag (3.12.0)",
   "language": "python",
   "name": "python3"
  },
  "language_info": {
   "codemirror_mode": {
    "name": "ipython",
    "version": 3
   },
   "file_extension": ".py",
   "mimetype": "text/x-python",
   "name": "python",
   "nbconvert_exporter": "python",
   "pygments_lexer": "ipython3",
   "version": "3.12.0"
  }
 },
 "nbformat": 4,
 "nbformat_minor": 5
}
