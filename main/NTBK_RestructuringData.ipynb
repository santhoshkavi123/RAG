{
 "cells": [
  {
   "cell_type": "markdown",
   "id": "840b71da",
   "metadata": {},
   "source": [
    "# Import Required Packages"
   ]
  },
  {
   "cell_type": "code",
   "execution_count": 6,
   "id": "5c15a87e",
   "metadata": {},
   "outputs": [],
   "source": [
    "import os\n",
    "from typing import List, Dict\n",
    "\n",
    "# Decorator packages\n",
    "from IPython.display import display, Markdown\n",
    "from tqdm import tqdm\n",
    "\n",
    "# langchain core packages\n",
    "from langchain_core.documents import Document\n",
    "from langchain_core.prompts import (PromptTemplate, \n",
    "                                    ChatPromptTemplate)\n",
    "\n",
    "# langchain\n",
    "from langchain.chat_models import init_chat_model\n",
    "from langchain.load import loads, dumps "
   ]
  },
  {
   "cell_type": "code",
   "execution_count": 9,
   "id": "8e70170a",
   "metadata": {},
   "outputs": [
    {
     "name": "stdout",
     "output_type": "stream",
     "text": [
      "==== SUCCESS LOAD: LANGCHAIN SERIALIZED OBJECT -> CHAPTERS ====\n",
      "==== SUCCESS LOAD: LANGCHAIN SERIALIZED OBJECT -> CHAPTER SUMMARIES ====\n",
      "==== FAILURE: LANGCHAIN SERIALIZED OBJECT -> QUOTE DOCUMENTS ====\n"
     ]
    }
   ],
   "source": [
    "try:\n",
    "    with open(\"../data/ingestion_processed/serialized_chapter.json\", \"r\") as f:\n",
    "        serialized_chapter = f.read()\n",
    "    chapters = loads(serialized_chapter)\n",
    "    print(\"==== SUCCESS LOAD: LANGCHAIN SERIALIZED OBJECT -> CHAPTERS ====\")        \n",
    "except:\n",
    "    print(\"==== FAILURE LOAD: LANGCHAIN SERIALIZED OBJECT -> CHAPTERS ====\")\n",
    "\n",
    "\n",
    "\n",
    "try:\n",
    "    with open(\"../data/ingestion_processed/serialized_chapter_summaries.json\", \"r\") as f:\n",
    "        serialized_chapter_summaries = f.read()\n",
    "    chapter_summaries = loads(serialized_chapter_summaries)\n",
    "    print(\"==== SUCCESS LOAD: LANGCHAIN SERIALIZED OBJECT -> CHAPTER SUMMARIES ====\")        \n",
    "except:\n",
    "    print(\"==== FAILURE LOAD: LANGCHAIN SERIALIZED OBJECT -> CHAPTER SUMMARIES ====\")\n",
    "\n",
    "\n",
    "\n",
    "try:\n",
    "    with open(\"../data/ingestion_processed/serialized_quotes_documents.json\", \"r\") as f:\n",
    "        serialized_quotes_documents = f.read()\n",
    "    quotes_documents = loads(serialized_quotes_documents)\n",
    "    print(\"==== SUCCESS : LANGCHAIN SERIALIZED OBJECT -> QUOTE DOCUMENTS ====\")        \n",
    "except:\n",
    "    print(\"==== FAILURE: LANGCHAIN SERIALIZED OBJECT -> QUOTE DOCUMENTS ====\")"
   ]
  },
  {
   "cell_type": "code",
   "execution_count": null,
   "id": "56c25ec7",
   "metadata": {},
   "outputs": [],
   "source": []
  }
 ],
 "metadata": {
  "kernelspec": {
   "display_name": "rag (3.12.0)",
   "language": "python",
   "name": "python3"
  },
  "language_info": {
   "codemirror_mode": {
    "name": "ipython",
    "version": 3
   },
   "file_extension": ".py",
   "mimetype": "text/x-python",
   "name": "python",
   "nbconvert_exporter": "python",
   "pygments_lexer": "ipython3",
   "version": "3.12.0"
  }
 },
 "nbformat": 4,
 "nbformat_minor": 5
}
