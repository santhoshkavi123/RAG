{
 "cells": [
  {
   "cell_type": "markdown",
   "id": "840b71da",
   "metadata": {},
   "source": [
    "# Import Required Packages"
   ]
  },
  {
   "cell_type": "code",
   "execution_count": 61,
   "id": "5c15a87e",
   "metadata": {},
   "outputs": [],
   "source": [
    "import os\n",
    "import getpass\n",
    "import PyPDF2\n",
    "import certifi\n",
    "from typing import List, Dict\n",
    "from dotenv import load_dotenv\n",
    "from uuid import uuid4\n",
    "\n",
    "# Decorator packages\n",
    "from IPython.display import display, Markdown\n",
    "from tqdm import tqdm\n",
    "\n",
    "# langchain core packages\n",
    "from langchain_core.documents import Document\n",
    "from langchain_core.prompts import (PromptTemplate, \n",
    "                                    ChatPromptTemplate)\n",
    "\n",
    "\n",
    "# langchain Text \n",
    "from langchain.text_splitter import RecursiveCharacterTextSplitter\n",
    "\n",
    "# langchain\n",
    "from langchain.chat_models import init_chat_model\n",
    "from langchain.load import loads, dumps \n",
    "\n",
    "# Embeddings\n",
    "from langchain.embeddings import HuggingFaceEmbeddings\n",
    "\n",
    "# Vector Database \n",
    "from pymongo import MongoClient\n",
    "from pymongo.server_api import ServerApi\n",
    "from langchain_mongodb import MongoDBAtlasVectorSearch"
   ]
  },
  {
   "cell_type": "code",
   "execution_count": 72,
   "id": "e1252f3a",
   "metadata": {},
   "outputs": [
    {
     "data": {
      "text/plain": [
       "['92c0f325-41e2-486f-a36d-38083e97c16c',\n",
       " '49393096-5d78-42ce-9eb1-8c47bede667e',\n",
       " '455d7f85-704e-4034-8c8a-95db2ca17a7b',\n",
       " 'a558e1f5-eb75-4e4f-af12-b52b053ffd33',\n",
       " 'a6a4be8b-4b09-4ee1-ac78-e3155ed52e03',\n",
       " 'e1542944-4893-429c-b4fe-7be2cdd03dfe',\n",
       " '3ffba627-1f88-4321-9c32-e9938aeaddff',\n",
       " 'b11da869-e90d-4c05-9835-407b5022b57a',\n",
       " '14a0b23c-a2af-4615-a6be-96f029d2056d',\n",
       " '85201f23-2719-44c8-80ca-ec6c0101b73a']"
      ]
     },
     "execution_count": 72,
     "metadata": {},
     "output_type": "execute_result"
    }
   ],
   "source": [
    "[str(uuid4()) for i in range(10)]"
   ]
  },
  {
   "cell_type": "markdown",
   "id": "3f1c6b42",
   "metadata": {},
   "source": [
    "# Load Data "
   ]
  },
  {
   "cell_type": "code",
   "execution_count": 87,
   "id": "319cedf5",
   "metadata": {},
   "outputs": [],
   "source": [
    "book_pdf_filepath = \"../data/Harry Potter - Book 1 - The Sorcerers Stone.pdf\"\n",
    "\n",
    "with open(book_pdf_filepath, \"rb\") as pdf_file:\n",
    "    data = PyPDF2.PdfReader(pdf_file)\n",
    "    full_text = \" \".join([page.extract_text() for page in data.pages])\n",
    "\n",
    "full_text = full_text.replace(\"\\t\", \" \")\n",
    "full_text_doc = Document(\n",
    "    page_content = full_text, \n",
    "    metadata = {\"source\":\"github\", \"topic\":\"Harrypotter - Book\", \"chapter\":\"all_topics\"}\n",
    ")"
   ]
  },
  {
   "cell_type": "code",
   "execution_count": 80,
   "id": "8e70170a",
   "metadata": {},
   "outputs": [
    {
     "name": "stdout",
     "output_type": "stream",
     "text": [
      "==== SUCCESS LOAD: LANGCHAIN SERIALIZED OBJECT -> CHAPTERS ====\n",
      "==== SUCCESS LOAD: LANGCHAIN SERIALIZED OBJECT -> CHAPTER SUMMARIES ====\n",
      "==== SUCCESS : LANGCHAIN SERIALIZED OBJECT -> QUOTE DOCUMENTS ====\n"
     ]
    }
   ],
   "source": [
    "try:\n",
    "    with open(\"../data/ingestion_processed/serialized_chapter.json\", \"r\") as f:\n",
    "        serialized_chapter = f.read()\n",
    "    chapters = loads(serialized_chapter)\n",
    "    print(\"==== SUCCESS LOAD: LANGCHAIN SERIALIZED OBJECT -> CHAPTERS ====\")        \n",
    "except:\n",
    "    print(\"==== FAILURE LOAD: LANGCHAIN SERIALIZED OBJECT -> CHAPTERS ====\")\n",
    "\n",
    "\n",
    "\n",
    "try:\n",
    "    with open(\"../data/ingestion_processed/serialized_chapter_summaries.json\", \"r\") as f:\n",
    "        serialized_chapter_summaries = f.read()\n",
    "    chapter_summaries = loads(serialized_chapter_summaries)\n",
    "    print(\"==== SUCCESS LOAD: LANGCHAIN SERIALIZED OBJECT -> CHAPTER SUMMARIES ====\")        \n",
    "except:\n",
    "    print(\"==== FAILURE LOAD: LANGCHAIN SERIALIZED OBJECT -> CHAPTER SUMMARIES ====\")\n",
    "\n",
    "\n",
    "\n",
    "try:\n",
    "    with open(\"../data/ingestion_processed/serialized_quotes_documents.json\", \"r\") as f:\n",
    "        serialized_quotes_documents = f.read()\n",
    "    quotes_documents = loads(serialized_quotes_documents)\n",
    "    print(\"==== SUCCESS : LANGCHAIN SERIALIZED OBJECT -> QUOTE DOCUMENTS ====\")        \n",
    "except:\n",
    "    print(\"==== FAILURE: LANGCHAIN SERIALIZED OBJECT -> QUOTE DOCUMENTS ====\")"
   ]
  },
  {
   "cell_type": "markdown",
   "id": "f0989065",
   "metadata": {},
   "source": [
    "# 3. Get Retriever"
   ]
  },
  {
   "cell_type": "markdown",
   "id": "38093e51",
   "metadata": {},
   "source": [
    "#### Initialize MongoDB Vector Database"
   ]
  },
  {
   "cell_type": "code",
   "execution_count": 119,
   "id": "86f5b2b1",
   "metadata": {},
   "outputs": [],
   "source": [
    "MONGODB_ATLAS_CLUSTER_URI = getpass.getpass(\"MongoDB Atlas Cluster URI:\")"
   ]
  },
  {
   "cell_type": "code",
   "execution_count": 120,
   "id": "2dcb5fef",
   "metadata": {},
   "outputs": [
    {
     "name": "stdout",
     "output_type": "stream",
     "text": [
      "Pinged your deployment. You successfully connected to MongoDB!\n"
     ]
    }
   ],
   "source": [
    "client = MongoClient(MONGODB_ATLAS_CLUSTER_URI, \n",
    "                     server_api=ServerApi('1'), \n",
    "                     tlsCAFile=certifi.where())\n",
    "DB_NAME = \"harry_potter_db\"\n",
    "DB_COLLECTION_NAME = \"harry_potter_collection\"\n",
    "DB_SEARCH_INDEX_NAME = \"langchain-test-index-vectorstore_1\"\n",
    "MONGODB_COLLECTION = client[DB_NAME][DB_COLLECTION_NAME]\n",
    "try:\n",
    "    client.admin.command('ping')\n",
    "    print(\"Pinged your deployment. You successfully connected to MongoDB!\")\n",
    "except Exception as e:\n",
    "    print(e)"
   ]
  },
  {
   "cell_type": "markdown",
   "id": "08cdea0a",
   "metadata": {},
   "source": [
    "#### 1. Creating Retriever for Chapters"
   ]
  },
  {
   "cell_type": "code",
   "execution_count": 143,
   "id": "7f04a31f",
   "metadata": {},
   "outputs": [],
   "source": [
    "class GenerateRetriever:\n",
    "\n",
    "    \"\"\"\n",
    "        Function : Generate Retreiver \n",
    "\n",
    "        Params :\n",
    "            chunk_size : RecursiveTextSplitter parameter\n",
    "            chunk_overlap : RecursiveTextSplitter parameter\n",
    "            db_name : MongoDB DB Name\n",
    "            collection_name : MongoDB Collection Name\n",
    "\n",
    "    \"\"\"\n",
    "\n",
    "    def __init__(self, chunk_size: int, chunk_overlap: int, db_name: str, db_search_index_name:str, \n",
    "                collection_name:str, model_name:str, documents: Document, search_type:str, top_k_documents:int):\n",
    "        self.chunk_size = chunk_size\n",
    "        self.chunk_overlap = chunk_overlap\n",
    "        self.db_name = db_name\n",
    "        self.collection_name = collection_name \n",
    "        self.model_name = model_name\n",
    "        self.db_search_index_name =  db_search_index_name\n",
    "        self.search_type = search_type \n",
    "        self.top_k_documents = top_k_documents\n",
    "        self.documents = documents\n",
    "\n",
    "    def getMongoDBclient(self, embeddings):\n",
    "        # Collection Name and Database Name\n",
    "        MONGODB_COLLECTION = client[self.db_name][self.collection_name]\n",
    "        try:\n",
    "            # Store embedding in the vector store\n",
    "            self.vector_store = MongoDBAtlasVectorSearch(\n",
    "                collection = MONGODB_COLLECTION, \n",
    "                embedding = embeddings, \n",
    "                index_name = \"_id\",\n",
    "                relevance_score_fn = \"cosine\",\n",
    "            )\n",
    "            print(\"===== Success : Store Embeddings in Vector Store =====\")\n",
    "        except Exception as e:\n",
    "            print(\"===== Failure : Store Embeddings in Vector Store =====\", e)\n",
    "\n",
    "        return self.vector_store \n",
    "\n",
    "    def getRecursiveCharacterTextSplitter(self):\n",
    "        # Define the text splitter \n",
    "        try:\n",
    "            self.text_splitter = RecursiveCharacterTextSplitter(\n",
    "                chunk_size = self.chunk_size, \n",
    "                chunk_overlap = self.chunk_overlap, \n",
    "                length_function = len\n",
    "            )\n",
    "            print(\"===== Success : Load Recursive Character Text Splitter =====\")\n",
    "        except Exception as e:\n",
    "            print(\"===== Failure : Load Recursive Character Text Splitter =====\", e)\n",
    "\n",
    "    \n",
    "    def getEmbeddingsModel(self):\n",
    "        try:\n",
    "            model_kwargs = {\"device\":\"mps\"}\n",
    "            self.embedding_model = HuggingFaceEmbeddings(model_name = self.model_name,\n",
    "                                             model_kwargs = model_kwargs)\n",
    "            self.embedding_model.embed_query(text = \"Are you working perfectly fine?\")\n",
    "            print(\"==== Success : Initiate Embedding Model =====\")    \n",
    "        except Exception as e:\n",
    "            print(\"===== Failure : Initiate Embedding Model=====\", e)\n",
    "\n",
    "        \n",
    "    def generateEmbeddings(self):\n",
    "\n",
    "        # load embedding model\n",
    "        self.getEmbeddingsModel()\n",
    "\n",
    "        # load recursive character text splitter \n",
    "        self.getRecursiveCharacterTextSplitter()\n",
    "\n",
    "        # Split the documents \n",
    "        documents = self.text_splitter.split_documents(self.documents)\n",
    "\n",
    "        # Generate Embeddings and Save the documents in MongoDB Vector Database\n",
    "        self.vector_store = self.getMongoDBclient(embeddings=self.embedding_model)\n",
    "        uuids = [str(uuid4()) for _ in range(len(documents))]\n",
    "        self.vector_store.add_documents(documents=documents, ids = uuids)\n",
    "\n",
    "        # Convert Vector Store as Retriever\n",
    "        retriever = self.vector_store.as_retriever(search_type = self.search_type, \n",
    "                                                   search_kwargs = {\"k\": self.top_k_documents})\n",
    "\n",
    "        return retriever"
   ]
  },
  {
   "cell_type": "code",
   "execution_count": 146,
   "id": "59d7debf",
   "metadata": {},
   "outputs": [
    {
     "name": "stdout",
     "output_type": "stream",
     "text": [
      "==== Success : Initiate Embedding Model =====\n",
      "===== Success : Load Recursive Character Text Splitter =====\n",
      "===== Success : Store Embeddings in Vector Store =====\n"
     ]
    }
   ],
   "source": [
    "chapter_retriever_model = GenerateRetriever(\n",
    "    chunk_size = 1000, \n",
    "    chunk_overlap = 100, \n",
    "    db_name = \"HarryPotter_db\", \n",
    "    db_search_index_name = \"\", \n",
    "    collection_name = \"HarryPotterCollection_Chapter\", \n",
    "    model_name = \"all-MiniLM-L6-v2\", \n",
    "    search_type=\"similarity\", \n",
    "    top_k_documents = 5,\n",
    "    documents= chapters\n",
    ")\n",
    "chapters_retriever = chapter_retriever_model.generateEmbeddings()"
   ]
  },
  {
   "cell_type": "code",
   "execution_count": 149,
   "id": "ac62a8e4",
   "metadata": {},
   "outputs": [
    {
     "data": {
      "text/plain": [
       "[]"
      ]
     },
     "execution_count": 149,
     "metadata": {},
     "output_type": "execute_result"
    }
   ],
   "source": [
    "chapters_retriever.invoke(input = \"Chapter One\")"
   ]
  },
  {
   "cell_type": "markdown",
   "id": "816a0e1a",
   "metadata": {},
   "source": [
    "#### 2. Creating Retriever for Chapter Summaries"
   ]
  },
  {
   "cell_type": "code",
   "execution_count": null,
   "id": "df4f321b",
   "metadata": {},
   "outputs": [
    {
     "name": "stdout",
     "output_type": "stream",
     "text": [
      "==== Success : Initiate Embedding Model =====\n",
      "===== Success : Load Recursive Character Text Splitter =====\n"
     ]
    }
   ],
   "source": [
    "chapter_summaries_retriever_model = GenerateRetriever(\n",
    "    chunk_size = 1000, \n",
    "    chunk_overlap = 100, \n",
    "    db_name = \"HarryPotter_db\", \n",
    "    db_search_index_name = \"HarryPotterSearch_ChapterSummariesIndex\", \n",
    "    collection_name = \"HarryPotterCollection_ChapterSummaries\", \n",
    "    model_name = \"all-MiniLM-L6-v2\", \n",
    "    search_type=\"similarity\", \n",
    "    top_k_documents = 5,\n",
    "    documents= chapter_summaries\n",
    ")\n",
    "chapter_summaries_retriever = chapter_summaries_retriever_model.generateEmbeddings()"
   ]
  },
  {
   "cell_type": "markdown",
   "id": "21b08e59",
   "metadata": {},
   "source": [
    "#### 3. Creating Retriever for Quotes"
   ]
  },
  {
   "cell_type": "code",
   "execution_count": 83,
   "id": "2bb98a58",
   "metadata": {},
   "outputs": [
    {
     "name": "stdout",
     "output_type": "stream",
     "text": [
      "==== Success : Initiate Embedding Model =====\n",
      "===== Success : Load Recursive Character Text Splitter =====\n"
     ]
    }
   ],
   "source": [
    "quotes_retriever_model = GenerateRetriever(\n",
    "    chunk_size = 1000, \n",
    "    chunk_overlap = 100, \n",
    "    db_name = \"HarryPotter_db\", \n",
    "    db_search_index_name = \"HarryPotterSearch_QuotesIndex\", \n",
    "    collection_name = \"HarryPotterCollection_Quotes\", \n",
    "    model_name = \"all-MiniLM-L6-v2\", \n",
    "    search_type=\"similarity\", \n",
    "    top_k_documents = 5,\n",
    "    documents= quotes_documents\n",
    ")\n",
    "quotes_retriever = quotes_retriever_model.generateEmbeddings()"
   ]
  },
  {
   "cell_type": "markdown",
   "id": "97c502c1",
   "metadata": {},
   "source": [
    "#### 4. Creating Retriever for Full Text"
   ]
  },
  {
   "cell_type": "code",
   "execution_count": 89,
   "id": "4032f708",
   "metadata": {},
   "outputs": [
    {
     "name": "stdout",
     "output_type": "stream",
     "text": [
      "==== Success : Initiate Embedding Model =====\n",
      "===== Success : Load Recursive Character Text Splitter =====\n"
     ]
    }
   ],
   "source": [
    "fulltext_retriever_model = GenerateRetriever(\n",
    "    chunk_size = 1000, \n",
    "    chunk_overlap = 100, \n",
    "    db_name = \"HarryPotter_db\", \n",
    "    db_search_index_name = \"HarryPotterSearch_FullTextIndex\", \n",
    "    collection_name = \"HarryPotterCollection_FullText\", \n",
    "    model_name = \"all-MiniLM-L6-v2\", \n",
    "    search_type=\"similarity\", \n",
    "    top_k_documents = 5,\n",
    "    documents= [full_text_doc]\n",
    ")\n",
    "fulltext_retriever = fulltext_retriever_model.generateEmbeddings()"
   ]
  },
  {
   "cell_type": "code",
   "execution_count": 91,
   "id": "f0ade649",
   "metadata": {},
   "outputs": [
    {
     "data": {
      "text/plain": [
       "[]"
      ]
     },
     "execution_count": 91,
     "metadata": {},
     "output_type": "execute_result"
    }
   ],
   "source": [
    "fulltext_retriever.invoke(\"Chapter One\")"
   ]
  },
  {
   "cell_type": "code",
   "execution_count": 102,
   "id": "e1f5bbb6",
   "metadata": {},
   "outputs": [],
   "source": [
    "query = 'Little tyke,\" chortled Mr. Dursley as he left the house.'"
   ]
  },
  {
   "cell_type": "code",
   "execution_count": 104,
   "id": "dc253f4e",
   "metadata": {},
   "outputs": [
    {
     "data": {
      "text/plain": [
       "[]"
      ]
     },
     "execution_count": 104,
     "metadata": {},
     "output_type": "execute_result"
    }
   ],
   "source": [
    "fulltext_retriever.get_relevant_documents(query)"
   ]
  },
  {
   "cell_type": "code",
   "execution_count": null,
   "id": "2df5799a",
   "metadata": {},
   "outputs": [],
   "source": []
  }
 ],
 "metadata": {
  "kernelspec": {
   "display_name": "rag (3.12.0)",
   "language": "python",
   "name": "python3"
  },
  "language_info": {
   "codemirror_mode": {
    "name": "ipython",
    "version": 3
   },
   "file_extension": ".py",
   "mimetype": "text/x-python",
   "name": "python",
   "nbconvert_exporter": "python",
   "pygments_lexer": "ipython3",
   "version": "3.12.0"
  }
 },
 "nbformat": 4,
 "nbformat_minor": 5
}
